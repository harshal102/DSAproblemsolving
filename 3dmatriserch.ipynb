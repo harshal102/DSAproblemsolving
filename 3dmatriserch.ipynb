{
 "cells": [
  {
   "cell_type": "code",
   "execution_count": 10,
   "id": "7e01bf5a",
   "metadata": {},
   "outputs": [
    {
     "name": "stdout",
     "output_type": "stream",
     "text": [
      "the element is in data 8\n"
     ]
    }
   ],
   "source": [
    "def ternarysearch(matrix,x,l,r):\n",
    "    while l<=r:\n",
    "        mid1 = l+(r-l)//3\n",
    "        mid2= r-(r-l)//3\n",
    "        if x==matrix[mid1]:\n",
    "            return mid1\n",
    "        elif matrix[mid2]==x:\n",
    "            return mid2\n",
    "        elif x<matrix[mid1]:\n",
    "            r=mid1-1\n",
    "        elif x>matrix[mid2]:\n",
    "            l=mid2+1\n",
    "        else:\n",
    "            l=mid1+1\n",
    "            r=mid2-1\n",
    "    return -1\n",
    "    \n",
    "matrix=[1,2,3,4,5,6,7,8,9]\n",
    "x=9\n",
    "l=0\n",
    "r=len(matrix)-1\n",
    "result=ternarysearch(matrix,x,l,r)\n",
    "print(\"the element is in data\",result)"
   ]
  },
  {
   "cell_type": "code",
   "execution_count": null,
   "id": "1abb6aa7",
   "metadata": {},
   "outputs": [],
   "source": []
  }
 ],
 "metadata": {
  "kernelspec": {
   "display_name": "Python 3 (ipykernel)",
   "language": "python",
   "name": "python3"
  },
  "language_info": {
   "codemirror_mode": {
    "name": "ipython",
    "version": 3
   },
   "file_extension": ".py",
   "mimetype": "text/x-python",
   "name": "python",
   "nbconvert_exporter": "python",
   "pygments_lexer": "ipython3",
   "version": "3.9.12"
  }
 },
 "nbformat": 4,
 "nbformat_minor": 5
}
