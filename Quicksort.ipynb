{
  "nbformat": 4,
  "nbformat_minor": 0,
  "metadata": {
    "colab": {
      "provenance": [],
      "authorship_tag": "ABX9TyNGxULyk9WOy+/v5TjM+Qdc",
      "include_colab_link": true
    },
    "kernelspec": {
      "name": "python3",
      "display_name": "Python 3"
    },
    "language_info": {
      "name": "python"
    }
  },
  "cells": [
    {
      "cell_type": "markdown",
      "metadata": {
        "id": "view-in-github",
        "colab_type": "text"
      },
      "source": [
        "<a href=\"https://colab.research.google.com/github/harshal102/DSAproblemsolving/blob/main/Quicksort.ipynb\" target=\"_parent\"><img src=\"https://colab.research.google.com/assets/colab-badge.svg\" alt=\"Open In Colab\"/></a>"
      ]
    },
    {
      "cell_type": "code",
      "execution_count": 1,
      "metadata": {
        "colab": {
          "base_uri": "https://localhost:8080/"
        },
        "id": "_YWufSGeqnJ3",
        "outputId": "20e170a4-ac50-4059-c2f8-5278e451ff72"
      },
      "outputs": [
        {
          "output_type": "stream",
          "name": "stdout",
          "text": [
            "Before sorting array elements are - \n",
            "68 13 1 49 58 \n",
            "After sorting array elements are - \n",
            "1 13 49 58 68 "
          ]
        }
      ],
      "source": [
        "def partition (a, start, end):\n",
        "    i = (start - 1)\n",
        "    pivot = a[end] # pivot element\n",
        "\n",
        "    for j in range(start, end):\n",
        "        # If current element is smaller than or equal to the pivot\n",
        "        if (a[j] <= pivot):\n",
        "            i = i + 1\n",
        "            a[i], a[j] = a[j], a[i]\n",
        "\n",
        "    a[i+1], a[end] = a[end], a[i+1]\n",
        "\n",
        "    return (i + 1)\n",
        "\n",
        "# function to implement quick sort\n",
        "def quick(a, start, end): # a[] = array to be sorted, start = Starting index, end = Ending index\n",
        "    if (start < end):\n",
        "        p = partition(a, start, end) # p is partitioning index\n",
        "        quick(a, start, p - 1)\n",
        "        quick(a, p + 1, end)\n",
        "\n",
        "\n",
        "def printArr(a): # function to print the array\n",
        "    for i in range(len(a)):\n",
        "        print (a[i], end = \" \")\n",
        "\n",
        "\n",
        "a = [68, 13, 1, 49, 58]\n",
        "print(\"Before sorting array elements are - \")\n",
        "printArr(a)\n",
        "quick(a, 0, len(a)-1)\n",
        "print(\"\\nAfter sorting array elements are - \")\n",
        "printArr(a)"
      ]
    },
    {
      "cell_type": "code",
      "source": [],
      "metadata": {
        "id": "g7ASszpyqoMp"
      },
      "execution_count": null,
      "outputs": []
    }
  ]
}