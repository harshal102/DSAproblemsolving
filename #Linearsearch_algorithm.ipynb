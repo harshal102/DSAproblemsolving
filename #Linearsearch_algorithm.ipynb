{
 "cells": [
  {
   "cell_type": "code",
   "execution_count": 1,
   "id": "686a3c4b",
   "metadata": {},
   "outputs": [],
   "source": [
    "#Linear search algorithm"
   ]
  },
  {
   "cell_type": "code",
   "execution_count": 7,
   "id": "267c4a04",
   "metadata": {},
   "outputs": [
    {
     "name": "stdout",
     "output_type": "stream",
     "text": [
      "element present in array: 6\n"
     ]
    }
   ],
   "source": [
    "def linearsearch(arr,x):\n",
    "    for i in range(len(arr)):\n",
    "        if arr[i]== x:\n",
    "            return i\n",
    "    return -1\n",
    "\n",
    "\n",
    "arr=[2,3,56,78,21,34,22]\n",
    "x=22\n",
    "result=linearsearch(arr,x)\n",
    "print(\"element present in array:\",result)"
   ]
  },
  {
   "cell_type": "code",
   "execution_count": 8,
   "id": "344b5186",
   "metadata": {},
   "outputs": [
    {
     "data": {
      "text/plain": [
       "[2, 4, 10, 20, 23, 77, 87, 90, 99]"
      ]
     },
     "execution_count": 8,
     "metadata": {},
     "output_type": "execute_result"
    }
   ],
   "source": [
    "arr=[10,20,2,4,87,23,90,77,99]\n",
    "arr.sort()\n",
    "arr"
   ]
  },
  {
   "cell_type": "code",
   "execution_count": 9,
   "id": "650139b2",
   "metadata": {},
   "outputs": [
    {
     "name": "stdout",
     "output_type": "stream",
     "text": [
      "element present in the array 2\n"
     ]
    }
   ],
   "source": [
    "def binerySearch(arr,i,j,x):\n",
    "    while i<=j:\n",
    "        mid=i+(j-i)//2\n",
    "        if arr[mid]==x:\n",
    "            return mid\n",
    "        elif arr[mid]<x:\n",
    "            return binerySearch(arr,mid+1,j,x)\n",
    "        else:\n",
    "            return binerySearch(arr,i,mid-1,x)\n",
    "        \n",
    "    return -1\n",
    "    \n",
    "\n",
    "\n",
    "arr=[10,20,2,4,87,23,90,77,99]\n",
    "arr.sort()\n",
    "x=10\n",
    "i=0\n",
    "j=len(arr)-1\n",
    "result=binerySearch(arr,i,j,x)\n",
    "print(\"element present in the array\",result)"
   ]
  },
  {
   "cell_type": "code",
   "execution_count": null,
   "id": "c87ebd5e",
   "metadata": {},
   "outputs": [],
   "source": []
  }
 ],
 "metadata": {
  "kernelspec": {
   "display_name": "Python 3 (ipykernel)",
   "language": "python",
   "name": "python3"
  },
  "language_info": {
   "codemirror_mode": {
    "name": "ipython",
    "version": 3
   },
   "file_extension": ".py",
   "mimetype": "text/x-python",
   "name": "python",
   "nbconvert_exporter": "python",
   "pygments_lexer": "ipython3",
   "version": "3.9.12"
  }
 },
 "nbformat": 4,
 "nbformat_minor": 5
}
