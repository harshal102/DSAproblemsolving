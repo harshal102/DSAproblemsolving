{
  "nbformat": 4,
  "nbformat_minor": 0,
  "metadata": {
    "colab": {
      "provenance": [],
      "authorship_tag": "ABX9TyOHO4RvIXth8CkVAXBe1UxS",
      "include_colab_link": true
    },
    "kernelspec": {
      "name": "python3",
      "display_name": "Python 3"
    },
    "language_info": {
      "name": "python"
    }
  },
  "cells": [
    {
      "cell_type": "markdown",
      "metadata": {
        "id": "view-in-github",
        "colab_type": "text"
      },
      "source": [
        "<a href=\"https://colab.research.google.com/github/harshal102/DSAproblemsolving/blob/main/findpower_divide%26conquer.ipynb\" target=\"_parent\"><img src=\"https://colab.research.google.com/assets/colab-badge.svg\" alt=\"Open In Colab\"/></a>"
      ]
    },
    {
      "cell_type": "code",
      "execution_count": 5,
      "metadata": {
        "colab": {
          "base_uri": "https://localhost:8080/"
        },
        "id": "pvNRno-2VYpu",
        "outputId": "e4fef2ba-5bc7-47fd-fbe9-2641e3e48548"
      },
      "outputs": [
        {
          "output_type": "stream",
          "name": "stdout",
          "text": [
            "power of the given no is  4294967296\n"
          ]
        }
      ],
      "source": [
        "def findpower(a,n):\n",
        "  if n==1:\n",
        "    return a\n",
        "  else:\n",
        "    mid=n//2\n",
        "    b=findpower(a,mid)\n",
        "    result=b*b\n",
        "    if n%2==0:\n",
        "      return result\n",
        "    return result*a\n",
        "\n",
        "#driver code\n",
        "a=2\n",
        "n=32\n",
        "result=findpower(a,n)\n",
        "print(\"power of the given no is \",result)"
      ]
    },
    {
      "cell_type": "code",
      "source": [],
      "metadata": {
        "id": "Pe7s6YxJfBj7"
      },
      "execution_count": null,
      "outputs": []
    }
  ]
}