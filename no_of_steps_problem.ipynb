{
  "nbformat": 4,
  "nbformat_minor": 0,
  "metadata": {
    "colab": {
      "provenance": [],
      "authorship_tag": "ABX9TyOUS6IPRN2R3gYGuEYrVSMw",
      "include_colab_link": true
    },
    "kernelspec": {
      "name": "python3",
      "display_name": "Python 3"
    },
    "language_info": {
      "name": "python"
    }
  },
  "cells": [
    {
      "cell_type": "markdown",
      "metadata": {
        "id": "view-in-github",
        "colab_type": "text"
      },
      "source": [
        "<a href=\"https://colab.research.google.com/github/harshal102/DSAproblemsolving/blob/main/no_of_steps_problem.ipynb\" target=\"_parent\"><img src=\"https://colab.research.google.com/assets/colab-badge.svg\" alt=\"Open In Colab\"/></a>"
      ]
    },
    {
      "cell_type": "code",
      "execution_count": 10,
      "metadata": {
        "colab": {
          "base_uri": "https://localhost:8080/"
        },
        "id": "Hau7riSHDuWc",
        "outputId": "01b1861c-df69-44f2-cdb1-07abf27d3bd5"
      },
      "outputs": [
        {
          "output_type": "stream",
          "name": "stdout",
          "text": [
            "5\n"
          ]
        }
      ],
      "source": [
        "def no_of_way(n):\n",
        "  if n<=1:\n",
        "    return n\n",
        "  else:\n",
        "    return no_of_way(n-1)+no_of_way(n-2)\n",
        "def helper(s):\n",
        "   return no_of_way(s+1)\n",
        "\n",
        "n=4\n",
        "result=helper(n)\n",
        "print(result)"
      ]
    },
    {
      "cell_type": "code",
      "source": [],
      "metadata": {
        "id": "J5rzG8aLEpSa"
      },
      "execution_count": null,
      "outputs": []
    }
  ]
}