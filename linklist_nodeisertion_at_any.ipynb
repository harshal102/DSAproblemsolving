{
  "nbformat": 4,
  "nbformat_minor": 0,
  "metadata": {
    "colab": {
      "provenance": [],
      "authorship_tag": "ABX9TyMI/q0RqtNUX/oI0LVkVnWd",
      "include_colab_link": true
    },
    "kernelspec": {
      "name": "python3",
      "display_name": "Python 3"
    },
    "language_info": {
      "name": "python"
    }
  },
  "cells": [
    {
      "cell_type": "markdown",
      "metadata": {
        "id": "view-in-github",
        "colab_type": "text"
      },
      "source": [
        "<a href=\"https://colab.research.google.com/github/harshal102/DSAproblemsolving/blob/main/linklist_nodeisertion_at_any.ipynb\" target=\"_parent\"><img src=\"https://colab.research.google.com/assets/colab-badge.svg\" alt=\"Open In Colab\"/></a>"
      ]
    },
    {
      "cell_type": "code",
      "execution_count": 7,
      "metadata": {
        "colab": {
          "base_uri": "https://localhost:8080/"
        },
        "id": "BIPs833OaVMs",
        "outputId": "a97a0412-c105-4a33-d444-bf56d7fd9eaa"
      },
      "outputs": [
        {
          "output_type": "stream",
          "name": "stdout",
          "text": [
            "orignal link list\n",
            "90  44  34  12  \n",
            "new link list\n",
            "90  44  34  100  12  "
          ]
        }
      ],
      "source": [
        "class Node:\n",
        "  def __init__(self,data):\n",
        "    self.data=data\n",
        "    self.next=None\n",
        "class linklist:\n",
        "  def __init__(self):\n",
        "    self.head=None\n",
        "\n",
        "  #insertion at first node\n",
        "  def insertfirst(self,new_data):\n",
        "    #creation of new node\n",
        "    new_node=Node(new_data)\n",
        "\n",
        "    new_node.next=self.head\n",
        "    self.head=new_node\n",
        "\n",
        "  def afternode(self,prev_node,new_data):\n",
        "    if prev_node==None:\n",
        "      print(\"given node not present\")\n",
        "      return\n",
        "    new_node=Node(new_data)\n",
        "    new_node.next=prev_node.next\n",
        "    prev_node.next=new_node\n",
        "\n",
        "\n",
        "  #print the link list\n",
        "  def printlist(self):\n",
        "    temp=self.head\n",
        "    while temp:\n",
        "      print(str(temp.data)+\" \",end=\" \")\n",
        "      temp=temp.next\n",
        "#Driver code\n",
        "llist=linklist()\n",
        "llist.insertfirst(12)\n",
        "llist.insertfirst(34)\n",
        "llist.insertfirst(44)\n",
        "llist.insertfirst(90)\n",
        "print(\"orignal link list\")\n",
        "llist.printlist()\n",
        "print()\n",
        "print(\"new link list\")\n",
        "llist.afternode(llist.head.next.next,100)\n",
        "llist.printlist()"
      ]
    },
    {
      "cell_type": "code",
      "source": [],
      "metadata": {
        "id": "h1rFeVh5cDdj"
      },
      "execution_count": null,
      "outputs": []
    }
  ]
}