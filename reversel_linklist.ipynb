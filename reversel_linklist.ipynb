{
  "nbformat": 4,
  "nbformat_minor": 0,
  "metadata": {
    "colab": {
      "provenance": [],
      "authorship_tag": "ABX9TyOlkKP4PewVsgMB09Gwy0qD",
      "include_colab_link": true
    },
    "kernelspec": {
      "name": "python3",
      "display_name": "Python 3"
    },
    "language_info": {
      "name": "python"
    }
  },
  "cells": [
    {
      "cell_type": "markdown",
      "metadata": {
        "id": "view-in-github",
        "colab_type": "text"
      },
      "source": [
        "<a href=\"https://colab.research.google.com/github/harshal102/DSAproblemsolving/blob/main/reversel_linklist.ipynb\" target=\"_parent\"><img src=\"https://colab.research.google.com/assets/colab-badge.svg\" alt=\"Open In Colab\"/></a>"
      ]
    },
    {
      "cell_type": "code",
      "execution_count": 2,
      "metadata": {
        "colab": {
          "base_uri": "https://localhost:8080/"
        },
        "id": "qAU-mrl2G8Sb",
        "outputId": "381d836b-8ff7-4076-df4f-c570e5381a66"
      },
      "outputs": [
        {
          "output_type": "stream",
          "name": "stdout",
          "text": [
            "orignal list\n",
            "90  44  34  12  \n",
            "new reversel list\n",
            "12  34  44  90  "
          ]
        }
      ],
      "source": [
        "class Node:\n",
        "  def __init__(self,data):\n",
        "    self.data=data\n",
        "    self.next=None\n",
        "class linklist:\n",
        "  def __init__(self):\n",
        "    self.head=None\n",
        "\n",
        "  #insertion at first node\n",
        "  def insertfirst(self,new_data):\n",
        "    #creation of new node\n",
        "    new_node=Node(new_data)\n",
        "\n",
        "    new_node.next=self.head\n",
        "    self.head=new_node\n",
        "\n",
        "  def reverselliklist(self):\n",
        "    prve=None\n",
        "    next_ptr=None\n",
        "    curr=self.head\n",
        "\n",
        "    while curr:\n",
        "      next_ptr=curr.next\n",
        "      curr.next=prve\n",
        "      prve=curr\n",
        "      curr=next_ptr\n",
        "    self.head=prve\n",
        "\n",
        "\n",
        "  #print the link list\n",
        "  def printlist(self):\n",
        "    temp=self.head\n",
        "    while temp:\n",
        "      print(str(temp.data)+\" \",end=\" \")\n",
        "      temp=temp.next\n",
        "#Driver code\n",
        "llist=linklist()\n",
        "llist.insertfirst(12)\n",
        "llist.insertfirst(34)\n",
        "llist.insertfirst(44)\n",
        "llist.insertfirst(90)\n",
        "print(\"orignal list\")\n",
        "llist.printlist()\n",
        "print()\n",
        "print(\"new reversel list\")\n",
        "llist.reverselliklist()\n",
        "llist.printlist()"
      ]
    },
    {
      "cell_type": "code",
      "source": [],
      "metadata": {
        "id": "uLh14O1SJzZB"
      },
      "execution_count": null,
      "outputs": []
    }
  ]
}