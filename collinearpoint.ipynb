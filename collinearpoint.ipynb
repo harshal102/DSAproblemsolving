{
  "nbformat": 4,
  "nbformat_minor": 0,
  "metadata": {
    "colab": {
      "provenance": [],
      "authorship_tag": "ABX9TyO1/usK72oy0fvsc9cmk74/",
      "include_colab_link": true
    },
    "kernelspec": {
      "name": "python3",
      "display_name": "Python 3"
    },
    "language_info": {
      "name": "python"
    }
  },
  "cells": [
    {
      "cell_type": "markdown",
      "metadata": {
        "id": "view-in-github",
        "colab_type": "text"
      },
      "source": [
        "<a href=\"https://colab.research.google.com/github/harshal102/DSAproblemsolving/blob/main/collinearpoint.ipynb\" target=\"_parent\"><img src=\"https://colab.research.google.com/assets/colab-badge.svg\" alt=\"Open In Colab\"/></a>"
      ]
    },
    {
      "cell_type": "code",
      "execution_count": 4,
      "metadata": {
        "colab": {
          "base_uri": "https://localhost:8080/"
        },
        "id": "srGKuAQbS4-4",
        "outputId": "a9696bf6-cc1a-44d3-9f1e-caf7febe7011"
      },
      "outputs": [
        {
          "output_type": "stream",
          "name": "stdout",
          "text": [
            "yes givan point are collinear\n"
          ]
        }
      ],
      "source": [
        "def collinear(x1,x2,x3,y1,y2,y3):\n",
        "  if((y2-y1)*(x3-x2)==(y3-y2)*(x2-x1)):\n",
        "    print(\"yes givan point are collinear\")\n",
        "  else:\n",
        "    print(\"givan points are not collinear\")\n",
        "\n",
        "\n",
        "x1,x2,x3,y1,y2,y3=1,1,1,1,6,1\n",
        "result=collinear(x1,x2,x3,y1,y2,y3)\n"
      ]
    },
    {
      "cell_type": "code",
      "source": [
        "def collinear(x1,x2,x3,y1,y2,y3):\n",
        "  area=0.5*(x1*(y2-y3)+x2*(y3-y1)+x3*(y1-y2))\n",
        "  if area==0:\n",
        "    print(\"yes givan point are collinear\")\n",
        "  else:\n",
        "    print(\"givan points are not collinear\")\n",
        "\n",
        "\n",
        "x1,x2,x3,y1,y2,y3=1,1,4,1,6,1\n",
        "result=collinear(x1,x2,x3,y1,y2,y3)"
      ],
      "metadata": {
        "colab": {
          "base_uri": "https://localhost:8080/"
        },
        "id": "vK3w_VD3Uki4",
        "outputId": "d80bc2ec-e9ec-4397-8a85-4f17da7ab177"
      },
      "execution_count": 6,
      "outputs": [
        {
          "output_type": "stream",
          "name": "stdout",
          "text": [
            "givan points are not collinear\n"
          ]
        }
      ]
    },
    {
      "cell_type": "code",
      "source": [],
      "metadata": {
        "id": "9_58jCXLVjHe"
      },
      "execution_count": null,
      "outputs": []
    }
  ]
}