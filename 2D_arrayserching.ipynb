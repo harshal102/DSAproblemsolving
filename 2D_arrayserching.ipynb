{
 "cells": [
  {
   "cell_type": "code",
   "execution_count": 21,
   "id": "6c5d093c",
   "metadata": {},
   "outputs": [
    {
     "name": "stdout",
     "output_type": "stream",
     "text": [
      "the element is in data False\n"
     ]
    }
   ],
   "source": [
    "def bineary_2d(matrix,target):\n",
    "    m=len(matrix)\n",
    "    if m==0:\n",
    "        return False\n",
    "    n=len(matrix[0])\n",
    "    \n",
    "    left=0\n",
    "    right=m*n-1\n",
    "    while left<=right:\n",
    "        mid=left+(right-left)//2\n",
    "        mid_element=matrix[mid//n][mid%n]\n",
    "        if mid_element==target:\n",
    "            return True\n",
    "        elif mid_element<target:\n",
    "            left=mid+1\n",
    "        else:\n",
    "            right=mid-1\n",
    "    return False\n",
    "\n",
    "matrix=[[1,3,4,7],[10,20,34,55],[56,65,78,89],[90,100,102,106]]\n",
    "target=29\n",
    "result=bineary_2d(matrix,target)\n",
    "print(\"the element is in data\",result)"
   ]
  },
  {
   "cell_type": "code",
   "execution_count": 4,
   "id": "a20eabf1",
   "metadata": {},
   "outputs": [
    {
     "data": {
      "text/plain": [
       "list"
      ]
     },
     "execution_count": 4,
     "metadata": {},
     "output_type": "execute_result"
    }
   ],
   "source": []
  },
  {
   "cell_type": "code",
   "execution_count": null,
   "id": "d30778ae",
   "metadata": {},
   "outputs": [],
   "source": []
  }
 ],
 "metadata": {
  "kernelspec": {
   "display_name": "Python 3 (ipykernel)",
   "language": "python",
   "name": "python3"
  },
  "language_info": {
   "codemirror_mode": {
    "name": "ipython",
    "version": 3
   },
   "file_extension": ".py",
   "mimetype": "text/x-python",
   "name": "python",
   "nbconvert_exporter": "python",
   "pygments_lexer": "ipython3",
   "version": "3.9.12"
  }
 },
 "nbformat": 4,
 "nbformat_minor": 5
}
