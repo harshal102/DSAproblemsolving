{
  "nbformat": 4,
  "nbformat_minor": 0,
  "metadata": {
    "colab": {
      "provenance": [],
      "authorship_tag": "ABX9TyPQqravUbMLNvEE1vSSWWNS",
      "include_colab_link": true
    },
    "kernelspec": {
      "name": "python3",
      "display_name": "Python 3"
    },
    "language_info": {
      "name": "python"
    }
  },
  "cells": [
    {
      "cell_type": "markdown",
      "metadata": {
        "id": "view-in-github",
        "colab_type": "text"
      },
      "source": [
        "<a href=\"https://colab.research.google.com/github/harshal102/DSAproblemsolving/blob/main/mejorityelement.ipynb\" target=\"_parent\"><img src=\"https://colab.research.google.com/assets/colab-badge.svg\" alt=\"Open In Colab\"/></a>"
      ]
    },
    {
      "cell_type": "code",
      "execution_count": 6,
      "metadata": {
        "colab": {
          "base_uri": "https://localhost:8080/"
        },
        "id": "bGUupbTmcr0s",
        "outputId": "01231d0a-39af-4987-a397-9af9371a10bd"
      },
      "outputs": [
        {
          "output_type": "stream",
          "name": "stdout",
          "text": [
            "Counter({2: 4, 1: 3})\n",
            "2\n"
          ]
        }
      ],
      "source": [
        "#1\n",
        "from collections import Counter\n",
        "def majority(arr):\n",
        "  Counts=Counter(arr)\n",
        "  print(Counts)\n",
        "  return max(Counts.keys(),key=Counts.get)\n",
        "\n",
        "\n",
        "\n",
        "arr=[1,1,2,1,2,2,2]\n",
        "result=majority(arr)\n",
        "print(result)"
      ]
    },
    {
      "cell_type": "code",
      "source": [],
      "metadata": {
        "id": "XNQG0IaEeFhZ"
      },
      "execution_count": null,
      "outputs": []
    }
  ]
}