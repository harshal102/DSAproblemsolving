{
  "nbformat": 4,
  "nbformat_minor": 0,
  "metadata": {
    "colab": {
      "provenance": [],
      "authorship_tag": "ABX9TyPwgQBEz27Bze65R/R1TLCx",
      "include_colab_link": true
    },
    "kernelspec": {
      "name": "python3",
      "display_name": "Python 3"
    },
    "language_info": {
      "name": "python"
    }
  },
  "cells": [
    {
      "cell_type": "markdown",
      "metadata": {
        "id": "view-in-github",
        "colab_type": "text"
      },
      "source": [
        "<a href=\"https://colab.research.google.com/github/harshal102/DSAproblemsolving/blob/main/Validparanthesis_stack.ipynb\" target=\"_parent\"><img src=\"https://colab.research.google.com/assets/colab-badge.svg\" alt=\"Open In Colab\"/></a>"
      ]
    },
    {
      "cell_type": "code",
      "execution_count": 5,
      "metadata": {
        "colab": {
          "base_uri": "https://localhost:8080/"
        },
        "id": "9ZUKl7OLE2rR",
        "outputId": "7dd3851a-bed1-4ff7-901d-d6d45fd60f33"
      },
      "outputs": [
        {
          "output_type": "stream",
          "name": "stdout",
          "text": [
            "string contain the valid parameter\n"
          ]
        }
      ],
      "source": [
        "def validpara(str1):\n",
        "  open_para=set([\"(\", \"{\", \"[\"])\n",
        "  dis={\"(\":\")\",\"{\":\"}\",\"[\":\"]\"}\n",
        "  stack=[]\n",
        "  for i in str1:\n",
        "    if i in open_para:\n",
        "      stack.append(i)\n",
        "    elif stack and i==dis[stack[-1]]:\n",
        "      stack.pop()\n",
        "    else:\n",
        "      return False\n",
        "  return stack==[]\n",
        "\n",
        "\n",
        "\n",
        "\n",
        "\n",
        "#driver code\n",
        "str1=\"[{()}]\"\n",
        "if validpara(str1):\n",
        "  print(\"string contain the valid parameter\")\n",
        "else:\n",
        "  print(\"string contain the envalid paremeter\")"
      ]
    },
    {
      "cell_type": "code",
      "source": [],
      "metadata": {
        "id": "3gfqeAsLIH_S"
      },
      "execution_count": null,
      "outputs": []
    }
  ]
}