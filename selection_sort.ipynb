{
 "cells": [
  {
   "cell_type": "code",
   "execution_count": 6,
   "id": "d4bd30b2",
   "metadata": {},
   "outputs": [
    {
     "name": "stdout",
     "output_type": "stream",
     "text": [
      "50\n",
      "27 50\n",
      "39\n",
      "29 39\n",
      "45\n",
      "39 45\n",
      "79\n",
      "45 79\n",
      "50\n",
      "50 50\n",
      "79\n",
      "79 79\n",
      "sorted array: [27, 29, 39, 45, 50, 79]\n"
     ]
    }
   ],
   "source": [
    "def selection_sort(arr):\n",
    "    n=len(arr)\n",
    "    for i in range(n):\n",
    "        mid_index=i\n",
    "        for j in range(i+1,n):\n",
    "            if arr[j]<arr[mid_index]:\n",
    "                mid_index=j\n",
    "                \n",
    "        #swaping        \n",
    "        arr[i],arr[mid_index]=arr[mid_index],arr[i]\n",
    "    return arr\n",
    "                \n",
    "\n",
    "arr=[50,39,45,79,27,29]\n",
    "result=selection_sort(arr)\n",
    "print(\"sorted array:\",result)"
   ]
  },
  {
   "cell_type": "code",
   "execution_count": null,
   "id": "ec85ac9b",
   "metadata": {},
   "outputs": [],
   "source": []
  }
 ],
 "metadata": {
  "kernelspec": {
   "display_name": "Python 3 (ipykernel)",
   "language": "python",
   "name": "python3"
  },
  "language_info": {
   "codemirror_mode": {
    "name": "ipython",
    "version": 3
   },
   "file_extension": ".py",
   "mimetype": "text/x-python",
   "name": "python",
   "nbconvert_exporter": "python",
   "pygments_lexer": "ipython3",
   "version": "3.9.12"
  }
 },
 "nbformat": 4,
 "nbformat_minor": 5
}
