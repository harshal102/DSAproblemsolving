{
 "cells": [
  {
   "cell_type": "code",
   "execution_count": 5,
   "id": "db2e7f46",
   "metadata": {},
   "outputs": [
    {
     "name": "stdout",
     "output_type": "stream",
     "text": [
      "sorted arry is: [5, 7, 9, 50, 85, 95, 100, 100, 110]\n"
     ]
    }
   ],
   "source": [
    "def insertionsort(arr):\n",
    "    for i in range(1,len(arr)):\n",
    "        key=arr[i]\n",
    "        j=i-1\n",
    "        \n",
    "        while j>=0 and key<arr[j]:\n",
    "            arr[j+1]=arr[j]\n",
    "            j=j-1\n",
    "            \n",
    "            \n",
    "        arr[j+1]=key\n",
    "    return arr\n",
    "\n",
    "\n",
    "\n",
    "\n",
    "arr=[9,5,100,95,85,50,100,110,7]\n",
    "result=insertionsort(arr)\n",
    "print(\"sorted arry is:\",result)"
   ]
  },
  {
   "cell_type": "code",
   "execution_count": null,
   "id": "7ec28677",
   "metadata": {},
   "outputs": [],
   "source": []
  }
 ],
 "metadata": {
  "kernelspec": {
   "display_name": "Python 3 (ipykernel)",
   "language": "python",
   "name": "python3"
  },
  "language_info": {
   "codemirror_mode": {
    "name": "ipython",
    "version": 3
   },
   "file_extension": ".py",
   "mimetype": "text/x-python",
   "name": "python",
   "nbconvert_exporter": "python",
   "pygments_lexer": "ipython3",
   "version": "3.9.12"
  }
 },
 "nbformat": 4,
 "nbformat_minor": 5
}
