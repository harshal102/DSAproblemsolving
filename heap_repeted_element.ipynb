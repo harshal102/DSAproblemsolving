{
  "nbformat": 4,
  "nbformat_minor": 0,
  "metadata": {
    "colab": {
      "provenance": [],
      "authorship_tag": "ABX9TyMVFD2seAjgaZNrSXIqMMfo",
      "include_colab_link": true
    },
    "kernelspec": {
      "name": "python3",
      "display_name": "Python 3"
    },
    "language_info": {
      "name": "python"
    }
  },
  "cells": [
    {
      "cell_type": "markdown",
      "metadata": {
        "id": "view-in-github",
        "colab_type": "text"
      },
      "source": [
        "<a href=\"https://colab.research.google.com/github/harshal102/DSAproblemsolving/blob/main/heap_repeted_element.ipynb\" target=\"_parent\"><img src=\"https://colab.research.google.com/assets/colab-badge.svg\" alt=\"Open In Colab\"/></a>"
      ]
    },
    {
      "cell_type": "code",
      "execution_count": null,
      "metadata": {
        "colab": {
          "base_uri": "https://localhost:8080/"
        },
        "id": "pBCawjXYQYZc",
        "outputId": "0e149d02-6bee-4089-ac1d-a0ae107409ef"
      },
      "outputs": [
        {
          "output_type": "stream",
          "name": "stdout",
          "text": [
            "Counter({1: 3, 2: 3, 3: 2})\n",
            "[1, 2]\n"
          ]
        }
      ],
      "source": [
        "from collections import Counter\n",
        "import heapq\n",
        "def topkrepeatelement(arr,k):\n",
        "  if k==len(arr):\n",
        "    return set(arr)\n",
        "  count=Counter(arr)\n",
        "  print(count)\n",
        "  return heapq.nlargest(k,count.keys(),key=count.get)\n",
        "\n",
        "\n",
        "\n",
        "\n",
        "arr=[1,3,2,2,1,3,1,2]\n",
        "k=2\n",
        "result=topkrepeatelement(arr,k)\n",
        "print(result)"
      ]
    },
    {
      "cell_type": "code",
      "source": [],
      "metadata": {
        "id": "W-40pQWHQ73W"
      },
      "execution_count": null,
      "outputs": []
    }
  ]
}