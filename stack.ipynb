{
  "nbformat": 4,
  "nbformat_minor": 0,
  "metadata": {
    "colab": {
      "provenance": [],
      "authorship_tag": "ABX9TyMN13NZWoKEf7GmOfgfI4+E",
      "include_colab_link": true
    },
    "kernelspec": {
      "name": "python3",
      "display_name": "Python 3"
    },
    "language_info": {
      "name": "python"
    }
  },
  "cells": [
    {
      "cell_type": "markdown",
      "metadata": {
        "id": "view-in-github",
        "colab_type": "text"
      },
      "source": [
        "<a href=\"https://colab.research.google.com/github/harshal102/DSAproblemsolving/blob/main/stack.ipynb\" target=\"_parent\"><img src=\"https://colab.research.google.com/assets/colab-badge.svg\" alt=\"Open In Colab\"/></a>"
      ]
    },
    {
      "cell_type": "code",
      "execution_count": 2,
      "metadata": {
        "id": "kTgk8VWVxOJv"
      },
      "outputs": [],
      "source": [
        "stack=[]\n",
        "#pushing the data into stack\n",
        "stack.append(\"https://www.amazon.in/\")\n",
        "stack.append(\"https://www.amazon.in/sell/\")\n",
        "stack.append(\"https://www.amazon.in/sell/mouse/\")\n",
        "stack.append(\"https://www.amazon.in/sell/mouse/120/\")\n",
        "stack.append(\"https://www.amazon.in/sell/mouse/120/cart/\")"
      ]
    },
    {
      "cell_type": "code",
      "source": [
        "stack.pop()"
      ],
      "metadata": {
        "colab": {
          "base_uri": "https://localhost:8080/",
          "height": 35
        },
        "id": "BNeqELmKy2uS",
        "outputId": "16b00712-b52d-4ecc-e850-9614a446112f"
      },
      "execution_count": 3,
      "outputs": [
        {
          "output_type": "execute_result",
          "data": {
            "text/plain": [
              "'https://www.amazon.in/sell/mouse/120/cart/'"
            ],
            "application/vnd.google.colaboratory.intrinsic+json": {
              "type": "string"
            }
          },
          "metadata": {},
          "execution_count": 3
        }
      ]
    },
    {
      "cell_type": "code",
      "source": [
        "from collections import deque\n",
        "class pushpop:\n",
        "  def __init__(self):\n",
        "    self.data=deque()\n",
        "  def push(self,data):\n",
        "    self.data.append(data)\n",
        "  def pop(self,data):\n",
        "    self.data.pop()\n",
        "\n",
        "\n",
        "\n",
        "result=pushpop()\n",
        "result.push(20)"
      ],
      "metadata": {
        "id": "ejClbccNzDM4"
      },
      "execution_count": 12,
      "outputs": []
    },
    {
      "cell_type": "code",
      "source": [],
      "metadata": {
        "id": "pnA0DBYtzEzV"
      },
      "execution_count": null,
      "outputs": []
    }
  ]
}