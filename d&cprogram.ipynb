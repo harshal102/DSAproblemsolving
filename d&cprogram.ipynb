{
  "nbformat": 4,
  "nbformat_minor": 0,
  "metadata": {
    "colab": {
      "provenance": [],
      "authorship_tag": "ABX9TyNnfqbyawf9OBnk0leeIPb1",
      "include_colab_link": true
    },
    "kernelspec": {
      "name": "python3",
      "display_name": "Python 3"
    },
    "language_info": {
      "name": "python"
    }
  },
  "cells": [
    {
      "cell_type": "markdown",
      "metadata": {
        "id": "view-in-github",
        "colab_type": "text"
      },
      "source": [
        "<a href=\"https://colab.research.google.com/github/harshal102/DSAproblemsolving/blob/main/d%26cprogram.ipynb\" target=\"_parent\"><img src=\"https://colab.research.google.com/assets/colab-badge.svg\" alt=\"Open In Colab\"/></a>"
      ]
    },
    {
      "cell_type": "code",
      "execution_count": 12,
      "metadata": {
        "colab": {
          "base_uri": "https://localhost:8080/"
        },
        "id": "fYTIXUcADUq9",
        "outputId": "bd9e5280-e88f-4847-c03b-c31d4a9f171b"
      },
      "outputs": [
        {
          "output_type": "stream",
          "name": "stdout",
          "text": [
            "(45, 10)\n"
          ]
        }
      ],
      "source": [
        "def findmaxmin(a,i,j):\n",
        "  if i==j:\n",
        "    max_val=a[i]\n",
        "    min_val=a[j]\n",
        "  elif i==j-1:\n",
        "    if a[i]<a[j]:\n",
        "      max_val=a[j]\n",
        "      min_val=a[i]\n",
        "    else:\n",
        "      max_val=a[i]\n",
        "      min_val=a[j]\n",
        "  else:\n",
        "    mid=i+(j-i)//2\n",
        "    max_l,min_l=findmaxmin(a,i,mid)\n",
        "    max_r,min_r=findmaxmin(a,mid+1,j)\n",
        "    if max_l<max_r:\n",
        "      max_val=max_r\n",
        "    else:\n",
        "      max_val=max_l\n",
        "\n",
        "    if min_l<min_r:\n",
        "      min_val=min_l\n",
        "    else:\n",
        "      min_val=min_r\n",
        "  return max_val,min_val\n",
        "\n",
        "\n",
        "\n",
        "\n",
        "\n",
        "\n",
        "a=[10,30,23,45,12,21]\n",
        "i=0\n",
        "j=len(a)-1\n",
        "result=findmaxmin(a,i,j)\n",
        "print(result)"
      ]
    },
    {
      "cell_type": "code",
      "source": [],
      "metadata": {
        "id": "WNFEKSuUWChW"
      },
      "execution_count": null,
      "outputs": []
    }
  ]
}