{
  "nbformat": 4,
  "nbformat_minor": 0,
  "metadata": {
    "colab": {
      "provenance": [],
      "authorship_tag": "ABX9TyOk+teJDggVw9EjV4dVqWQJ",
      "include_colab_link": true
    },
    "kernelspec": {
      "name": "python3",
      "display_name": "Python 3"
    },
    "language_info": {
      "name": "python"
    }
  },
  "cells": [
    {
      "cell_type": "markdown",
      "metadata": {
        "id": "view-in-github",
        "colab_type": "text"
      },
      "source": [
        "<a href=\"https://colab.research.google.com/github/harshal102/DSAproblemsolving/blob/main/heap_pop%26push.ipynb\" target=\"_parent\"><img src=\"https://colab.research.google.com/assets/colab-badge.svg\" alt=\"Open In Colab\"/></a>"
      ]
    },
    {
      "cell_type": "code",
      "execution_count": 14,
      "metadata": {
        "colab": {
          "base_uri": "https://localhost:8080/"
        },
        "id": "EHVX7rOK4Gh5",
        "outputId": "20a20889-60a7-4260-caeb-e1b0e24e8329"
      },
      "outputs": [
        {
          "output_type": "stream",
          "name": "stdout",
          "text": [
            "[[3, 3], [3, 5]]\n"
          ]
        }
      ],
      "source": [
        "from heapq import heappush,heappop\n",
        "import math\n",
        "def get_distance(x,y):\n",
        "  return math.sqrt(x**2+y**2)\n",
        "\n",
        "def topkrepeatelement(points,k):\n",
        "  n=len(points)\n",
        "  min_heap=[]\n",
        "  for i in range(n):\n",
        "    x=points[i][0]\n",
        "    y=points[i][1]\n",
        "    heappush(min_heap,(get_distance(x,y),points[i]))\n",
        "  #print(min_heap)\n",
        "\n",
        "  result=[]\n",
        "  for i in range(k):\n",
        "    result.append(heappop(min_heap)[1])\n",
        "  return result\n",
        "\n",
        "\n",
        "\n",
        "\n",
        "\n",
        "\n",
        "points=[[3,3],[3,5],[7,2]]\n",
        "k=2\n",
        "result=topkrepeatelement(points,k)\n",
        "print(result)"
      ]
    },
    {
      "cell_type": "code",
      "source": [],
      "metadata": {
        "id": "NpA6V3bu4f22"
      },
      "execution_count": null,
      "outputs": []
    }
  ]
}