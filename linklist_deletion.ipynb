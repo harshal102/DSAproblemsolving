{
  "nbformat": 4,
  "nbformat_minor": 0,
  "metadata": {
    "colab": {
      "provenance": [],
      "authorship_tag": "ABX9TyOrLoAOG1SIKuLh7t385hb6",
      "include_colab_link": true
    },
    "kernelspec": {
      "name": "python3",
      "display_name": "Python 3"
    },
    "language_info": {
      "name": "python"
    }
  },
  "cells": [
    {
      "cell_type": "markdown",
      "metadata": {
        "id": "view-in-github",
        "colab_type": "text"
      },
      "source": [
        "<a href=\"https://colab.research.google.com/github/harshal102/DSAproblemsolving/blob/main/linklist_deletion.ipynb\" target=\"_parent\"><img src=\"https://colab.research.google.com/assets/colab-badge.svg\" alt=\"Open In Colab\"/></a>"
      ]
    },
    {
      "cell_type": "code",
      "execution_count": 5,
      "metadata": {
        "colab": {
          "base_uri": "https://localhost:8080/"
        },
        "id": "59AAirq3fDQH",
        "outputId": "294c5f12-b5cf-4c9e-a22f-db318b2386b3"
      },
      "outputs": [
        {
          "output_type": "stream",
          "name": "stdout",
          "text": [
            "original list\n",
            "12  34  44  90  \n",
            "updatetd list\n",
            "12  44  90  "
          ]
        }
      ],
      "source": [
        "class Node:\n",
        "  def __init__(self,data):\n",
        "    self.data=data\n",
        "    self.next=None\n",
        "class linklist:\n",
        "  def __init__(self):\n",
        "    self.head=None\n",
        "\n",
        "  #insertion at first node\n",
        "  def insertend(self,new_data):\n",
        "    #creation of new node\n",
        "    new_node=Node(new_data)\n",
        "    #if list is empty\n",
        "    if self.head==None:\n",
        "      self.head=new_node\n",
        "      return\n",
        "\n",
        "    temp=self.head\n",
        "    while temp.next:\n",
        "      temp=temp.next\n",
        "\n",
        "    temp.next=new_node\n",
        "\n",
        "  def deletion_any(self,pos):\n",
        "    if self.head==None:\n",
        "      return\n",
        "    temp=self.head\n",
        "    for i in range(pos-1):\n",
        "      temp=temp.next\n",
        "      if temp is None:\n",
        "        return\n",
        "    next_ptr=temp.next.next\n",
        "    temp.next=None\n",
        "    temp.next=next_ptr\n",
        "\n",
        "\n",
        "  #print the link list\n",
        "  def printlist(self):\n",
        "    temp=self.head\n",
        "    while temp:\n",
        "      print(str(temp.data)+\" \",end=\" \")\n",
        "      temp=temp.next\n",
        "#Driver code\n",
        "llist=linklist()\n",
        "llist.insertend(12)\n",
        "llist.insertend(34)\n",
        "llist.insertend(44)\n",
        "llist.insertend(90)\n",
        "print(\"original list\")\n",
        "llist.printlist()\n",
        "print()\n",
        "llist.deletion_any(1)\n",
        "print(\"updatetd list\")\n",
        "llist.printlist()\n"
      ]
    },
    {
      "cell_type": "code",
      "source": [],
      "metadata": {
        "id": "z4fHudTsh-uS"
      },
      "execution_count": null,
      "outputs": []
    }
  ]
}