{
  "nbformat": 4,
  "nbformat_minor": 0,
  "metadata": {
    "colab": {
      "provenance": [],
      "authorship_tag": "ABX9TyMLfJyKIyoy72YbLgEVqnIr",
      "include_colab_link": true
    },
    "kernelspec": {
      "name": "python3",
      "display_name": "Python 3"
    },
    "language_info": {
      "name": "python"
    }
  },
  "cells": [
    {
      "cell_type": "markdown",
      "metadata": {
        "id": "view-in-github",
        "colab_type": "text"
      },
      "source": [
        "<a href=\"https://colab.research.google.com/github/harshal102/DSAproblemsolving/blob/main/no_of_node_in_list.ipynb\" target=\"_parent\"><img src=\"https://colab.research.google.com/assets/colab-badge.svg\" alt=\"Open In Colab\"/></a>"
      ]
    },
    {
      "cell_type": "code",
      "execution_count": 4,
      "metadata": {
        "colab": {
          "base_uri": "https://localhost:8080/"
        },
        "id": "iNbGq6toUpMK",
        "outputId": "20af10a9-96cc-4a3b-a80a-757560f89111"
      },
      "outputs": [
        {
          "output_type": "stream",
          "name": "stdout",
          "text": [
            "orignal list\n",
            "90  44  34  12  \n",
            "no of node in list\n",
            "4\n"
          ]
        }
      ],
      "source": [
        "class Node:\n",
        "  def __init__(self,data):\n",
        "    self.data=data\n",
        "    self.next=None\n",
        "class linklist:\n",
        "  def __init__(self):\n",
        "    self.head=None\n",
        "\n",
        "  #insertion at first node\n",
        "  def insertfirst(self,new_data):\n",
        "    #creation of new node\n",
        "    new_node=Node(new_data)\n",
        "\n",
        "    new_node.next=self.head\n",
        "    self.head=new_node\n",
        "  def countingnode(self):\n",
        "    count=0\n",
        "    temp=self.head\n",
        "    while temp:\n",
        "      count=count+1\n",
        "      temp=temp.next\n",
        "    return print(count)\n",
        "\n",
        "  #print the link list\n",
        "  def printlist(self):\n",
        "    temp=self.head\n",
        "    while temp:\n",
        "      print(str(temp.data)+\" \",end=\" \")\n",
        "      temp=temp.next\n",
        "#Driver code\n",
        "llist=linklist()\n",
        "llist.insertfirst(12)\n",
        "llist.insertfirst(34)\n",
        "llist.insertfirst(44)\n",
        "llist.insertfirst(90)\n",
        "print(\"orignal list\")\n",
        "llist.printlist()\n",
        "print()\n",
        "print(\"no of node in list\")\n",
        "llist.countingnode()"
      ]
    },
    {
      "cell_type": "code",
      "source": [],
      "metadata": {
        "id": "qyVEbMRQVVFs"
      },
      "execution_count": null,
      "outputs": []
    }
  ]
}