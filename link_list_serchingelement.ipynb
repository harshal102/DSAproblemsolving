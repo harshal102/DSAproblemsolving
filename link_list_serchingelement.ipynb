{
  "nbformat": 4,
  "nbformat_minor": 0,
  "metadata": {
    "colab": {
      "provenance": [],
      "authorship_tag": "ABX9TyMqmXYt8shrawwqia/YdqbZ",
      "include_colab_link": true
    },
    "kernelspec": {
      "name": "python3",
      "display_name": "Python 3"
    },
    "language_info": {
      "name": "python"
    }
  },
  "cells": [
    {
      "cell_type": "markdown",
      "metadata": {
        "id": "view-in-github",
        "colab_type": "text"
      },
      "source": [
        "<a href=\"https://colab.research.google.com/github/harshal102/DSAproblemsolving/blob/main/link_list_serchingelement.ipynb\" target=\"_parent\"><img src=\"https://colab.research.google.com/assets/colab-badge.svg\" alt=\"Open In Colab\"/></a>"
      ]
    },
    {
      "cell_type": "code",
      "execution_count": 10,
      "metadata": {
        "colab": {
          "base_uri": "https://localhost:8080/"
        },
        "id": "WQvqFt6U-pGb",
        "outputId": "32746bf2-3b71-4072-fd06-e44f69776e26"
      },
      "outputs": [
        {
          "output_type": "stream",
          "name": "stdout",
          "text": [
            "original list\n",
            "90 44 34 12 \n",
            "Data is present\n"
          ]
        }
      ],
      "source": [
        "class Node:\n",
        "  def __init__(self,data):\n",
        "    self.data=data\n",
        "    self.next=None\n",
        "class linklist:\n",
        "  def __init__(self):\n",
        "    self.head=None\n",
        "\n",
        "  def insertend(self,new_data):\n",
        "    new_node=Node(new_data)\n",
        "\n",
        "    new_node.next=self.head\n",
        "    self.head=new_node\n",
        "\n",
        "  def serching(self,data):\n",
        "    temp=self.head\n",
        "    while temp:\n",
        "      if temp.data==data:\n",
        "        return print(\"Data is present\")\n",
        "      temp=temp.next\n",
        "    return print(\"data is not present\")\n",
        "\n",
        "\n",
        "  def printdata(self):\n",
        "    temp=self.head\n",
        "    while temp:\n",
        "      print(str(temp.data)+\" \",end=\"\")\n",
        "      temp=temp.next\n",
        "\n",
        "\n",
        "llist=linklist()\n",
        "llist.insertend(12)\n",
        "llist.insertend(34)\n",
        "llist.insertend(44)\n",
        "llist.insertend(90)\n",
        "print(\"original list\")\n",
        "llist.printdata()\n",
        "print()\n",
        "llist.serching(12)\n",
        "\n",
        "\n"
      ]
    },
    {
      "cell_type": "code",
      "source": [],
      "metadata": {
        "id": "4uyYDKmsBXFW"
      },
      "execution_count": null,
      "outputs": []
    }
  ]
}