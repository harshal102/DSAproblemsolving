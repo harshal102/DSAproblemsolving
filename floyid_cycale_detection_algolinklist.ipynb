{
  "nbformat": 4,
  "nbformat_minor": 0,
  "metadata": {
    "colab": {
      "provenance": [],
      "authorship_tag": "ABX9TyOWiTMyC9f3HzRyjkxuD/qO",
      "include_colab_link": true
    },
    "kernelspec": {
      "name": "python3",
      "display_name": "Python 3"
    },
    "language_info": {
      "name": "python"
    }
  },
  "cells": [
    {
      "cell_type": "markdown",
      "metadata": {
        "id": "view-in-github",
        "colab_type": "text"
      },
      "source": [
        "<a href=\"https://colab.research.google.com/github/harshal102/DSAproblemsolving/blob/main/floyid_cycale_detection_algolinklist.ipynb\" target=\"_parent\"><img src=\"https://colab.research.google.com/assets/colab-badge.svg\" alt=\"Open In Colab\"/></a>"
      ]
    },
    {
      "cell_type": "code",
      "execution_count": 3,
      "metadata": {
        "colab": {
          "base_uri": "https://localhost:8080/"
        },
        "id": "I3V3vyuObc80",
        "outputId": "e5d74b9e-4ac1-429d-e21e-2cc0c8e769b0"
      },
      "outputs": [
        {
          "output_type": "stream",
          "name": "stdout",
          "text": [
            "orignal list\n",
            "90  44  34  12  \n",
            "list having loop\n"
          ]
        }
      ],
      "source": [
        "class Node:\n",
        "  def __init__(self,data):\n",
        "    self.data=data\n",
        "    self.next=None\n",
        "class linklist:\n",
        "  def __init__(self):\n",
        "    self.head=None\n",
        "\n",
        "  #insertion at first node\n",
        "  def insertfirst(self,new_data):\n",
        "    #creation of new node\n",
        "    new_node=Node(new_data)\n",
        "\n",
        "    new_node.next=self.head\n",
        "    self.head=new_node\n",
        "  def detectingloop(self):\n",
        "    hear=self.head\n",
        "    torr=self.head\n",
        "    while hear and torr and hear.next:\n",
        "      hear=hear.next.next\n",
        "      torr=torr.next\n",
        "      if torr==hear:\n",
        "        return True\n",
        "    return False\n",
        "\n",
        "  #print the link list\n",
        "  def printlist(self):\n",
        "    temp=self.head\n",
        "    while temp:\n",
        "      print(str(temp.data)+\" \",end=\" \")\n",
        "      temp=temp.next\n",
        "#Driver code\n",
        "llist=linklist()\n",
        "llist.insertfirst(12)\n",
        "llist.insertfirst(34)\n",
        "llist.insertfirst(44)\n",
        "llist.insertfirst(90)\n",
        "print(\"orignal list\")\n",
        "llist.printlist()\n",
        "llist.head.next.next=llist.head\n",
        "print()\n",
        "if llist.detectingloop():\n",
        "  print(\"list having loop\")\n",
        "else:\n",
        "  print(\"list do not have loop\")"
      ]
    },
    {
      "cell_type": "code",
      "source": [],
      "metadata": {
        "id": "uYed_WJ3dRkn"
      },
      "execution_count": null,
      "outputs": []
    }
  ]
}