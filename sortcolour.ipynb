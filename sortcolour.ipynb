{
  "nbformat": 4,
  "nbformat_minor": 0,
  "metadata": {
    "colab": {
      "provenance": [],
      "authorship_tag": "ABX9TyMIUK2dSzbvTpUwftJsEpPK",
      "include_colab_link": true
    },
    "kernelspec": {
      "name": "python3",
      "display_name": "Python 3"
    },
    "language_info": {
      "name": "python"
    }
  },
  "cells": [
    {
      "cell_type": "markdown",
      "metadata": {
        "id": "view-in-github",
        "colab_type": "text"
      },
      "source": [
        "<a href=\"https://colab.research.google.com/github/harshal102/DSAproblemsolving/blob/main/sortcolour.ipynb\" target=\"_parent\"><img src=\"https://colab.research.google.com/assets/colab-badge.svg\" alt=\"Open In Colab\"/></a>"
      ]
    },
    {
      "cell_type": "code",
      "execution_count": 11,
      "metadata": {
        "colab": {
          "base_uri": "https://localhost:8080/"
        },
        "id": "Cueg5bBcnrSX",
        "outputId": "cdeacd60-3915-4074-ec11-e53c53bf92c6"
      },
      "outputs": [
        {
          "output_type": "stream",
          "name": "stdout",
          "text": [
            "[0, 0, 1, 1, 2]\n"
          ]
        }
      ],
      "source": [
        "#time complex=o(n)\n",
        "\n",
        "def sortcolour(arr):\n",
        "  p0=curr=0\n",
        "  p2=len(arr)-1\n",
        "\n",
        "  while curr<=p2:\n",
        "    if arr[curr]==0:\n",
        "      arr[p0],arr[curr]=arr[curr],arr[p0]\n",
        "      p0+=1\n",
        "      curr+=1\n",
        "    elif arr[curr]==2:\n",
        "      arr[p2],arr[curr]=arr[curr],arr[p2]\n",
        "      p2-=1\n",
        "    else:\n",
        "      curr+=1\n",
        "  return arr\n",
        "\n",
        "arr=[0,2,1,1,0]\n",
        "result=sortcolour(arr)\n",
        "print(result)"
      ]
    },
    {
      "cell_type": "code",
      "source": [],
      "metadata": {
        "id": "MJ9SisAtp413"
      },
      "execution_count": null,
      "outputs": []
    }
  ]
}