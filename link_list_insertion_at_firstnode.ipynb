{
  "nbformat": 4,
  "nbformat_minor": 0,
  "metadata": {
    "colab": {
      "provenance": [],
      "authorship_tag": "ABX9TyMszVeiovC9rhviJWuzrr3P",
      "include_colab_link": true
    },
    "kernelspec": {
      "name": "python3",
      "display_name": "Python 3"
    },
    "language_info": {
      "name": "python"
    }
  },
  "cells": [
    {
      "cell_type": "markdown",
      "metadata": {
        "id": "view-in-github",
        "colab_type": "text"
      },
      "source": [
        "<a href=\"https://colab.research.google.com/github/harshal102/DSAproblemsolving/blob/main/link_list_insertion_at_firstnode.ipynb\" target=\"_parent\"><img src=\"https://colab.research.google.com/assets/colab-badge.svg\" alt=\"Open In Colab\"/></a>"
      ]
    },
    {
      "cell_type": "code",
      "execution_count": 15,
      "metadata": {
        "id": "YItq1iwT-GpJ"
      },
      "outputs": [],
      "source": [
        "#link list insertion at firstnode"
      ]
    },
    {
      "cell_type": "code",
      "source": [
        "class Node:\n",
        "  def __init__(self,data):\n",
        "    self.data=data\n",
        "    self.next=None\n",
        "class linklist:\n",
        "  def __init__(self):\n",
        "    self.head=None\n",
        "\n",
        "  #insertion at first node\n",
        "  def insertfirst(self,new_data):\n",
        "    #creation of new node\n",
        "    new_node=Node(new_data)\n",
        "\n",
        "    new_node.next=self.head\n",
        "    self.head=new_node\n",
        "\n",
        "  #print the link list\n",
        "  def printlist(self):\n",
        "    temp=self.head\n",
        "    while temp:\n",
        "      print(temp.data)\n",
        "      #print(str(temp.data)+\" \",end=\" \")\n",
        "      temp=temp.next\n",
        "#Driver code\n",
        "llist=linklist()\n",
        "llist.insertfirst(12)\n",
        "llist.insertfirst(34)\n",
        "llist.insertfirst(44)\n",
        "llist.insertfirst(90)\n",
        "llist.printlist()"
      ],
      "metadata": {
        "colab": {
          "base_uri": "https://localhost:8080/"
        },
        "id": "a_YmRNtn-Jec",
        "outputId": "7b3b6b68-19be-42cf-e527-c9d4ad1c14f2"
      },
      "execution_count": 14,
      "outputs": [
        {
          "output_type": "stream",
          "name": "stdout",
          "text": [
            "90\n",
            "44\n",
            "34\n",
            "12\n"
          ]
        }
      ]
    },
    {
      "cell_type": "code",
      "source": [],
      "metadata": {
        "id": "wK_CA1X8FaQw"
      },
      "execution_count": null,
      "outputs": []
    }
  ]
}