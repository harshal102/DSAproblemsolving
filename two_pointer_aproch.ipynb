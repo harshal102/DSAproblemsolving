{
  "nbformat": 4,
  "nbformat_minor": 0,
  "metadata": {
    "colab": {
      "provenance": [],
      "authorship_tag": "ABX9TyMYkDWAXCw41RUEnDJu2uAm",
      "include_colab_link": true
    },
    "kernelspec": {
      "name": "python3",
      "display_name": "Python 3"
    },
    "language_info": {
      "name": "python"
    }
  },
  "cells": [
    {
      "cell_type": "markdown",
      "metadata": {
        "id": "view-in-github",
        "colab_type": "text"
      },
      "source": [
        "<a href=\"https://colab.research.google.com/github/harshal102/DSAproblemsolving/blob/main/two_pointer_aproch.ipynb\" target=\"_parent\"><img src=\"https://colab.research.google.com/assets/colab-badge.svg\" alt=\"Open In Colab\"/></a>"
      ]
    },
    {
      "cell_type": "code",
      "execution_count": 5,
      "metadata": {
        "colab": {
          "base_uri": "https://localhost:8080/"
        },
        "id": "aYkodJUq4QsK",
        "outputId": "d5dd0162-7733-426d-c2b4-f143a2eba82b"
      },
      "outputs": [
        {
          "output_type": "stream",
          "name": "stdout",
          "text": [
            "(-1, -1)\n"
          ]
        }
      ],
      "source": [
        "def two_pointer_aproch(a,target):\n",
        "  l=0\n",
        "  r=len(a)-1\n",
        "  for i in range(r):\n",
        "    if a[i]+a[r]==target:\n",
        "      return l,r\n",
        "    elif a[i]+a[r]>target:\n",
        "      r=r-1\n",
        "    else:\n",
        "      l=l+1\n",
        "  return -1,-1\n",
        "\n",
        "\n",
        "\n",
        "#Driver code\n",
        "a=[10,20,30,40,50,60]\n",
        "target=800\n",
        "result=two_pointer_aproch(a,target)\n",
        "print(result)"
      ]
    },
    {
      "cell_type": "code",
      "source": [],
      "metadata": {
        "id": "6JODePiv5yGx"
      },
      "execution_count": null,
      "outputs": []
    }
  ]
}