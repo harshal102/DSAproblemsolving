{
  "nbformat": 4,
  "nbformat_minor": 0,
  "metadata": {
    "colab": {
      "provenance": [],
      "authorship_tag": "ABX9TyOURluaA74dDFD9LOHzUEG1",
      "include_colab_link": true
    },
    "kernelspec": {
      "name": "python3",
      "display_name": "Python 3"
    },
    "language_info": {
      "name": "python"
    }
  },
  "cells": [
    {
      "cell_type": "markdown",
      "metadata": {
        "id": "view-in-github",
        "colab_type": "text"
      },
      "source": [
        "<a href=\"https://colab.research.google.com/github/harshal102/DSAproblemsolving/blob/main/bineryserchwith_D%26C.ipynb\" target=\"_parent\"><img src=\"https://colab.research.google.com/assets/colab-badge.svg\" alt=\"Open In Colab\"/></a>"
      ]
    },
    {
      "cell_type": "code",
      "execution_count": 10,
      "metadata": {
        "colab": {
          "base_uri": "https://localhost:8080/"
        },
        "id": "WgT4UQb8wR5C",
        "outputId": "29ab2fac-88fc-49ca-a5fc-a89b7e3fdf3b"
      },
      "outputs": [
        {
          "output_type": "stream",
          "name": "stdout",
          "text": [
            "3\n"
          ]
        }
      ],
      "source": [
        "def bineryserch(a,i,j,x):\n",
        "  while i<=j:\n",
        "    mid=i+(j-i)//2\n",
        "    if a[mid]==x:\n",
        "      return mid\n",
        "    elif a[mid]<x:\n",
        "      return bineryserch(a,mid+1,j,x)\n",
        "    else:\n",
        "      return bineryserch(a,i,mid-1,x)\n",
        "  return -1\n",
        "\n",
        "\n",
        "#Driver code\n",
        "a=[0,1,2,3,4,5,6,7]\n",
        "i=0\n",
        "j=len(a)-1\n",
        "x=3\n",
        "result=bineryserch(a,i,j,x)\n",
        "print(result)"
      ]
    },
    {
      "cell_type": "code",
      "source": [],
      "metadata": {
        "id": "kCjH9Zg8xvP6"
      },
      "execution_count": null,
      "outputs": []
    }
  ]
}